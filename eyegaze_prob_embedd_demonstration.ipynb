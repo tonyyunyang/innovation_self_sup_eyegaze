{
 "cells": [
  {
   "cell_type": "code",
   "execution_count": 1,
   "id": "initial_id",
   "metadata": {
    "collapsed": true,
    "ExecuteTime": {
     "end_time": "2023-11-24T15:07:26.284781974Z",
     "start_time": "2023-11-24T15:07:25.743117973Z"
    }
   },
   "outputs": [],
   "source": [
    "import pandas as pd\n",
    "import numpy as np\n",
    "import os\n",
    "from sklearn.preprocessing import LabelEncoder\n",
    "import matplotlib.pyplot as plt\n",
    "from ipywidgets import interact, IntSlider\n",
    "from scipy.stats import norm"
   ]
  },
  {
   "cell_type": "code",
   "execution_count": 2,
   "outputs": [],
   "source": [
    "def load_all_data(directory):\n",
    "    left_data = []\n",
    "    right_data = []\n",
    "    subjects = []\n",
    "    act_classes = []\n",
    "    \n",
    "    for filename in os.listdir(directory):\n",
    "        if filename.endswith(\".csv\"):\n",
    "            subject = filename.split(\"_\")[0].strip()\n",
    "            act_class = filename.split(\"_\")[1].split(\".\")[0].strip()\n",
    "            df = pd.read_csv(os.path.join(directory, filename), header=None)\n",
    "\n",
    "            # Add the entire first and second column as an array to the respective lists\n",
    "            left_data.append(df[0].values)\n",
    "            right_data.append(df[1].values)\n",
    "            subjects.append(subject)\n",
    "            act_classes.append(act_class)\n",
    "\n",
    "    # Combine into a DataFrame\n",
    "    combined_data = pd.DataFrame({\n",
    "        'left_data': left_data,\n",
    "        'right_data': right_data,\n",
    "        'subject': subjects,\n",
    "        'act_class': act_classes\n",
    "    })\n",
    "\n",
    "    return combined_data\n",
    "\n",
    "def normalize_all_data(df):\n",
    "    # Concatenate all arrays in 'left_data' and 'right_data' to find the global min and max\n",
    "    all_left_data = np.concatenate(df['left_data'].tolist())\n",
    "    all_right_data = np.concatenate(df['right_data'].tolist())\n",
    "\n",
    "    left_min, left_max = all_left_data.min(), all_left_data.max()\n",
    "    right_min, right_max = all_right_data.min(), all_right_data.max()\n",
    "\n",
    "    print(f\"left_min: {left_min}, left_max: {left_max}\")\n",
    "    print(f\"right_min: {right_min}, right_max: {right_max}\")\n",
    "\n",
    "    # Define normalization functions based on the global min and max\n",
    "    def normalize(array, min_val, max_val):\n",
    "        if max_val - min_val == 0:\n",
    "            return array  # Avoid division by zero\n",
    "        return (array - min_val) / (max_val - min_val)\n",
    "\n",
    "    # Apply normalization to each array in 'left_data' and 'right_data'\n",
    "    df['left_data'] = df['left_data'].apply(normalize, args=(left_min, left_max))\n",
    "    df['right_data'] = df['right_data'].apply(normalize, args=(right_min, right_max))\n",
    "\n",
    "    return df"
   ],
   "metadata": {
    "collapsed": false,
    "ExecuteTime": {
     "end_time": "2023-11-24T15:07:26.291354682Z",
     "start_time": "2023-11-24T15:07:26.287845004Z"
    }
   },
   "id": "445479d40e0503c"
  },
  {
   "cell_type": "code",
   "execution_count": 3,
   "outputs": [
    {
     "name": "stdout",
     "output_type": "stream",
     "text": [
      "left_min: -0.12492, left_max: 1.0873\n",
      "right_min: -0.19863, right_max: 1.4762\n"
     ]
    }
   ],
   "source": [
    "all_data = load_all_data(\"data/DesktopActivity/ALL\")\n",
    "all_data_normalized = normalize_all_data(all_data)"
   ],
   "metadata": {
    "collapsed": false,
    "ExecuteTime": {
     "end_time": "2023-11-24T15:07:26.386818928Z",
     "start_time": "2023-11-24T15:07:26.289940090Z"
    }
   },
   "id": "7f719cf25954ee27"
  },
  {
   "cell_type": "code",
   "execution_count": 4,
   "outputs": [
    {
     "name": "stdout",
     "output_type": "stream",
     "text": [
      "Standard Deviation for left_data: 0.09782551290226099\n",
      "Standard Deviation for right_data: 0.12052316716926113\n"
     ]
    }
   ],
   "source": [
    "def calculate_std_deviation(df):\n",
    "    # Concatenate all arrays in 'left_data' and 'right_data'\n",
    "    all_left_data = np.concatenate(df['left_data'].tolist())\n",
    "    all_right_data = np.concatenate(df['right_data'].tolist())\n",
    "\n",
    "    # Calculate the standard deviation for the concatenated data\n",
    "    std_dev_left = np.std(all_left_data)\n",
    "    std_dev_right = np.std(all_right_data)\n",
    "\n",
    "    # Print the standard deviations\n",
    "    print(f\"Standard Deviation for left_data: {std_dev_left}\")\n",
    "    print(f\"Standard Deviation for right_data: {std_dev_right}\")\n",
    "\n",
    "    return std_dev_left, std_dev_right\n",
    "\n",
    "# Calculate and print the standard deviations\n",
    "std_left, std_right = calculate_std_deviation(all_data_normalized)"
   ],
   "metadata": {
    "collapsed": false,
    "ExecuteTime": {
     "end_time": "2023-11-24T15:07:26.396441756Z",
     "start_time": "2023-11-24T15:07:26.389405439Z"
    }
   },
   "id": "8b7feeb753b336cf"
  },
  {
   "cell_type": "code",
   "execution_count": 5,
   "outputs": [
    {
     "name": "stdout",
     "output_type": "stream",
     "text": [
      "The step size of each sample is 59, this is determined via the overlap\n"
     ]
    }
   ],
   "source": [
    "def apply_windowing(df, window_size, overlap):\n",
    "    step_size = int(window_size * (1 - overlap))\n",
    "    print(f\"The step size of each sample is {step_size}, this is determined via the overlap\")\n",
    "\n",
    "    left_data_segments = []\n",
    "    right_data_segments = []\n",
    "    labels = []\n",
    "    subjects = []\n",
    "\n",
    "    for index, row in df.iterrows():\n",
    "        left_data_array = row['left_data']\n",
    "        right_data_array = row['right_data']\n",
    "        label = row['act_class']  # or any other label you wish to use\n",
    "        subject = row['subject']\n",
    "\n",
    "        # Apply windowing for left_data\n",
    "        for i in range(0, len(left_data_array) - window_size + 1, step_size):\n",
    "            window = left_data_array[i:i + window_size]\n",
    "            left_data_segments.append(window)\n",
    "            labels.append(label)\n",
    "            subjects.append(subject)\n",
    "\n",
    "        # Apply windowing for right_data\n",
    "        for i in range(0, len(right_data_array) - window_size + 1, step_size):\n",
    "            window = right_data_array[i:i + window_size]\n",
    "            right_data_segments.append(window)\n",
    "            # Labels and subjects are the same for both left and right data\n",
    "\n",
    "    # Combine into a DataFrame\n",
    "    windowed_data = pd.DataFrame({\n",
    "        'left_data': left_data_segments,\n",
    "        'right_data': right_data_segments,\n",
    "        'label': labels,\n",
    "        'subject': subjects\n",
    "    })\n",
    "\n",
    "    return windowed_data\n",
    "windowed_data_normalized = apply_windowing(all_data_normalized, 300, 0.8)"
   ],
   "metadata": {
    "collapsed": false,
    "ExecuteTime": {
     "end_time": "2023-11-24T15:07:26.455639608Z",
     "start_time": "2023-11-24T15:07:26.406989260Z"
    }
   },
   "id": "60f46d22e91e74a3"
  },
  {
   "cell_type": "code",
   "execution_count": 6,
   "outputs": [
    {
     "name": "stdout",
     "output_type": "stream",
     "text": [
      "                                           left_data  \\\n",
      "0  [0.417828446981571, 0.4195855537773672, 0.4193...   \n",
      "1  [0.567636237646632, 0.559857121644586, 0.47971...   \n",
      "2  [0.5321888766065566, 0.5156489746085695, 0.512...   \n",
      "3  [0.49554536305291125, 0.49622180792265436, 0.4...   \n",
      "4  [0.5517480325353484, 0.5503868934681825, 0.549...   \n",
      "\n",
      "                                          right_data label subject  \n",
      "0  [0.4559507532107736, 0.45598657774221857, 0.45...  PLAY     P04  \n",
      "1  [0.4485828412435889, 0.44666622881128226, 0.41...  PLAY     P04  \n",
      "2  [0.3223133094105073, 0.3336935688995301, 0.331...  PLAY     P04  \n",
      "3  [0.36400709325722613, 0.3664909274374115, 0.36...  PLAY     P04  \n",
      "4  [0.3300633497131052, 0.33221282159980414, 0.33...  PLAY     P04  \n",
      "<class 'pandas.core.frame.DataFrame'>\n",
      "RangeIndex: 7104 entries, 0 to 7103\n",
      "Data columns (total 4 columns):\n",
      " #   Column      Non-Null Count  Dtype \n",
      "---  ------      --------------  ----- \n",
      " 0   left_data   7104 non-null   object\n",
      " 1   right_data  7104 non-null   object\n",
      " 2   label       7104 non-null   object\n",
      " 3   subject     7104 non-null   object\n",
      "dtypes: object(4)\n",
      "memory usage: 222.1+ KB\n",
      "None\n"
     ]
    }
   ],
   "source": [
    "print(windowed_data_normalized.head())\n",
    "print(windowed_data_normalized.info())"
   ],
   "metadata": {
    "collapsed": false,
    "ExecuteTime": {
     "end_time": "2023-11-24T15:07:26.456635020Z",
     "start_time": "2023-11-24T15:07:26.455274286Z"
    }
   },
   "id": "1f59523cd9031d74"
  },
  {
   "cell_type": "code",
   "execution_count": 7,
   "outputs": [],
   "source": [
    "# def extend_data_with_gaussian_distribution(windowed_data, std_left, std_right, gaussian_length):\n",
    "#     # Reduced standard deviations\n",
    "#     std_left /= 10  # Example: Reducing by half\n",
    "#     std_right /= 10  # Example: Reducing by half\n",
    "# \n",
    "#     extended_left_data = []\n",
    "#     extended_right_data = []\n",
    "# \n",
    "#     for index, row in windowed_data.iterrows():\n",
    "#         # Extend left_data\n",
    "#         left_data_segment = row['left_data']\n",
    "#         extended_left_segment = []\n",
    "#         for datum in left_data_segment:\n",
    "#             x = np.linspace(datum - 3*std_left, datum + 3*std_left, gaussian_length)\n",
    "#             y = (1 / (std_left * np.sqrt(2 * np.pi))) * np.exp(-0.5 * ((x - datum) / std_left) ** 2)\n",
    "#             extended_left_segment.append(y)\n",
    "#         extended_left_data.append(np.array(extended_left_segment).T)\n",
    "# \n",
    "#         # Extend right_data\n",
    "#         right_data_segment = row['right_data']\n",
    "#         extended_right_segment = []\n",
    "#         for datum in right_data_segment:\n",
    "#             x = np.linspace(datum - 3*std_right, datum + 3*std_right, gaussian_length)\n",
    "#             y = (1 / (std_right * np.sqrt(2 * np.pi))) * np.exp(-0.5 * ((x - datum) / std_right) ** 2)\n",
    "#             extended_right_segment.append(y)\n",
    "#         extended_right_data.append(np.array(extended_right_segment).T)\n",
    "# \n",
    "#     # Create a new DataFrame with extended data\n",
    "#     extended_data = pd.DataFrame({\n",
    "#         'left_data': extended_left_data,\n",
    "#         'right_data': extended_right_data,\n",
    "#         'label': windowed_data['label'],\n",
    "#         'subject': windowed_data['subject']\n",
    "#     })\n",
    "# \n",
    "#     return extended_data\n",
    "\n",
    "\n",
    "def extend_data_with_gaussian_distribution(windowed_data, std_left, std_right, gaussian_length):\n",
    "    extended_left_data = []\n",
    "    extended_right_data = []\n",
    "\n",
    "    for index, row in windowed_data.iterrows():\n",
    "        # Extend left_data\n",
    "        left_data_segment = row['left_data']\n",
    "        extended_left_segment = []\n",
    "        for datum in left_data_segment:\n",
    "            x = np.linspace(0, 1, gaussian_length)\n",
    "            y = norm.pdf(x, loc=datum, scale=std_left)\n",
    "            extended_left_segment.append(y)\n",
    "        extended_left_data.append(np.array(extended_left_segment).T)\n",
    "\n",
    "        # Extend right_data\n",
    "        right_data_segment = row['right_data']\n",
    "        extended_right_segment = []\n",
    "        for datum in right_data_segment:\n",
    "            x = np.linspace(0, 1, gaussian_length)\n",
    "            y = norm.pdf(x, loc=datum, scale=std_right)\n",
    "            extended_right_segment.append(y)\n",
    "        extended_right_data.append(np.array(extended_right_segment).T)\n",
    "\n",
    "    # Create a new DataFrame with extended data\n",
    "    extended_data = pd.DataFrame({\n",
    "        'left_data': extended_left_data,\n",
    "        'right_data': extended_right_data,\n",
    "        'label': windowed_data['label'],\n",
    "        'subject': windowed_data['subject']\n",
    "    })\n",
    "\n",
    "    return extended_data\n",
    "\n",
    "\n",
    "extended_data = extend_data_with_gaussian_distribution(windowed_data_normalized, std_left, std_right, 200)"
   ],
   "metadata": {
    "collapsed": false,
    "ExecuteTime": {
     "end_time": "2023-11-24T15:11:46.407489221Z",
     "start_time": "2023-11-24T15:07:26.455575908Z"
    }
   },
   "id": "8021e86a78adb2d6"
  },
  {
   "cell_type": "code",
   "execution_count": 8,
   "outputs": [
    {
     "name": "stdout",
     "output_type": "stream",
     "text": [
      "                                           left_data  \\\n",
      "0  [[0.0004457404093699498, 0.0004127567268367025...   \n",
      "1  [[1.9917316826144612e-07, 3.149558771452569e-0...   \n",
      "2  [[1.5270474564571093e-06, 3.7766790416856523e-...   \n",
      "3  [[1.0924054307895499e-05, 1.0547781705567946e-...   \n",
      "4  [[5.044139507237039e-07, 5.455403952464011e-07...   \n",
      "\n",
      "                                          right_data label subject  \n",
      "0  [[0.002582663042761655, 0.0025797603703425153,...  PLAY     P04  \n",
      "1  [[0.003248597969355731, 0.0034462454676304675,...  PLAY     P04  \n",
      "2  [[0.09265006463485982, 0.07165446501229361, 0....  PLAY     P04  \n",
      "3  [[0.03459988084804142, 0.032505027015069674, 0...  PLAY     P04  \n",
      "4  [[0.07785100206823009, 0.07412822372131388, 0....  PLAY     P04  \n",
      "<class 'pandas.core.frame.DataFrame'>\n",
      "RangeIndex: 7104 entries, 0 to 7103\n",
      "Data columns (total 4 columns):\n",
      " #   Column      Non-Null Count  Dtype \n",
      "---  ------      --------------  ----- \n",
      " 0   left_data   7104 non-null   object\n",
      " 1   right_data  7104 non-null   object\n",
      " 2   label       7104 non-null   object\n",
      " 3   subject     7104 non-null   object\n",
      "dtypes: object(4)\n",
      "memory usage: 222.1+ KB\n",
      "None\n"
     ]
    }
   ],
   "source": [
    "print(extended_data.head())\n",
    "print(extended_data.info())"
   ],
   "metadata": {
    "collapsed": false,
    "ExecuteTime": {
     "end_time": "2023-11-24T15:11:46.588131909Z",
     "start_time": "2023-11-24T15:11:46.451114669Z"
    }
   },
   "id": "d762586cd5b6b17d"
  },
  {
   "cell_type": "code",
   "execution_count": 9,
   "outputs": [
    {
     "name": "stdout",
     "output_type": "stream",
     "text": [
      "(200, 300)\n"
     ]
    }
   ],
   "source": [
    "print(extended_data['right_data'][0].shape)"
   ],
   "metadata": {
    "collapsed": false,
    "ExecuteTime": {
     "end_time": "2023-11-24T15:11:46.631537164Z",
     "start_time": "2023-11-24T15:11:46.589261766Z"
    }
   },
   "id": "71d9d304d1743e6a"
  },
  {
   "cell_type": "code",
   "execution_count": 10,
   "outputs": [],
   "source": [
    "def save_figures_to_folder(extended_data, folder_path, num_to_plot=10):\n",
    "    if not os.path.exists(folder_path):\n",
    "        os.makedirs(folder_path)\n",
    "\n",
    "    plotted = {}  # Dictionary to keep track of plotted label-subject combinations\n",
    "\n",
    "    for index, row in extended_data.head(num_to_plot).iterrows():\n",
    "        left_data = np.array(row['left_data'])\n",
    "        right_data = np.array(row['right_data'])\n",
    "        label = row['label']\n",
    "        subject = row['subject']\n",
    "\n",
    "        # Invert-normalize each column of left_data and right_data\n",
    "        def invert_normalize(data):\n",
    "            normalized_data = np.zeros_like(data)\n",
    "            for i in range(data.shape[1]):  # Iterate over columns\n",
    "                column_min = data[:, i].min()\n",
    "                column_max = data[:, i].max()\n",
    "                if column_max != column_min:\n",
    "                    normalized_data[:, i] = 1 - ((data[:, i] - column_min) / (column_max - column_min))\n",
    "                else:\n",
    "                    normalized_data[:, i] = 1 - data[:, i]\n",
    "            return normalized_data\n",
    "\n",
    "        normalized_left_data = invert_normalize(left_data)\n",
    "        normalized_right_data = invert_normalize(right_data)\n",
    "\n",
    "        # Create a unique identifier for each label-subject combination\n",
    "        label_subject = f\"{label}_{subject}\"\n",
    "        if label_subject not in plotted:\n",
    "            plotted[label_subject] = 1\n",
    "        else:\n",
    "            plotted[label_subject] += 1\n",
    "\n",
    "        fig, axs = plt.subplots(1, 2, figsize=(12, 6))\n",
    "\n",
    "        # Plot normalized left data\n",
    "        axs[0].imshow(normalized_left_data, cmap='gray', vmin=0, vmax=1)\n",
    "        axs[0].set_title('Left Data')\n",
    "        axs[0].axis('off')\n",
    "\n",
    "        # Plot normalized right data\n",
    "        axs[1].imshow(normalized_right_data, cmap='gray', vmin=0, vmax=1)\n",
    "        axs[1].set_title('Right Data')\n",
    "        axs[1].axis('off')\n",
    "\n",
    "        # Save the figure\n",
    "        plt.savefig(os.path.join(folder_path, f\"{label_subject}_{plotted[label_subject]}.png\"))\n",
    "        plt.close()\n",
    "\n",
    "# Example usage\n",
    "save_figures_to_folder(extended_data, 'generated_prob_figures', num_to_plot=10)"
   ],
   "metadata": {
    "collapsed": false,
    "ExecuteTime": {
     "end_time": "2023-11-24T15:11:47.561434210Z",
     "start_time": "2023-11-24T15:11:46.631225162Z"
    }
   },
   "id": "21eec8c39464fde8"
  },
  {
   "cell_type": "code",
   "execution_count": 11,
   "outputs": [
    {
     "data": {
      "text/plain": "<Figure size 2000x3000 with 1 Axes>",
      "image/png": "[encoded data removed]"
     },
     "metadata": {},
     "output_type": "display_data"
    }
   ],
   "source": [
    "# Assuming plot_data is already defined as extended_data['right_data'][0]\n",
    "plot_data = extended_data['right_data'][0]\n",
    "\n",
    "# Invert-normalize each column by its maximum and minimum values\n",
    "inverted_normalized_plot_data = np.zeros_like(plot_data)\n",
    "for i in range(plot_data.shape[1]):  # Iterate over columns\n",
    "    column_min = plot_data[:, i].min()\n",
    "    column_max = plot_data[:, i].max()\n",
    "    # Avoid division by zero\n",
    "    if column_max != column_min:\n",
    "        inverted_normalized_plot_data[:, i] = 1 - ((plot_data[:, i] - column_min) / (column_max - column_min))\n",
    "    else:\n",
    "        inverted_normalized_plot_data[:, i] = 1 - plot_data[:, i]\n",
    "\n",
    "# Set up the figure\n",
    "plt.figure(figsize=(20, 30))  # Adjust the size as needed\n",
    "\n",
    "# Display the data as an image with grayscale\n",
    "# 'cmap' sets the color map to grayscale\n",
    "plt.imshow(inverted_normalized_plot_data, cmap='gray', vmin=0, vmax=1)\n",
    "\n",
    "# Remove axis ticks\n",
    "plt.xticks([])\n",
    "plt.yticks([])\n",
    "\n",
    "# Optionally, you can add a title\n",
    "plt.title('Plot of Data')\n",
    "\n",
    "# Show the plot\n",
    "plt.show()"
   ],
   "metadata": {
    "collapsed": false,
    "ExecuteTime": {
     "end_time": "2023-11-24T15:11:47.707458696Z",
     "start_time": "2023-11-24T15:11:47.564740588Z"
    }
   },
   "id": "3f69450a7fac27c7"
  }
 ],
 "metadata": {
  "kernelspec": {
   "display_name": "Python 3",
   "language": "python",
   "name": "python3"
  },
  "language_info": {
   "codemirror_mode": {
    "name": "ipython",
    "version": 2
   },
   "file_extension": ".py",
   "mimetype": "text/x-python",
   "name": "python",
   "nbconvert_exporter": "python",
   "pygments_lexer": "ipython2",
   "version": "2.7.6"
  }
 },
 "nbformat": 4,
 "nbformat_minor": 5
}
